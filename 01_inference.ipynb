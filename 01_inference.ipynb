{
 "cells": [
  {
   "cell_type": "code",
   "execution_count": null,
   "id": "66f8649a",
   "metadata": {},
   "outputs": [],
   "source": [
    "import os\n",
    "import shutil\n",
    "import torch\n",
    "import torch.nn as nn\n",
    "import torch.optim as optim\n",
    "import torch.backends.cudnn as cudnn\n",
    "from torch.optim import lr_scheduler\n",
    "from torchvision.transforms import transforms\n",
    "\n",
    "from model import resnet50\n",
    "from dataset import DatasetFolder\n",
    "from dataset import DatasetFolder_wo_Label\n",
    "from dataset import is_valid_file\n",
    "\n",
    "import copy\n",
    "from tqdm import tqdm\n",
    "from glob import glob\n",
    "\n",
    "# os.environ['CUDA_VISIBLE_DEVICES'] = \"3\"\n",
    "device = torch.device(\"cuda:0\" if torch.cuda.is_available() else \"cpu\")\n",
    "cudnn.benchmark = True"
   ]
  },
  {
   "cell_type": "markdown",
   "id": "e1a27f51",
   "metadata": {},
   "source": [
    "# Model load"
   ]
  },
  {
   "cell_type": "code",
   "execution_count": null,
   "id": "9f0daad4",
   "metadata": {},
   "outputs": [],
   "source": [
    "# model_ft = resnet50(pretrained=False, num_channels=1)\n",
    "model_ft = resnet50(pretrained=False, num_channels=3)\n",
    "num_ftrs = model_ft.fc.in_features\n",
    "model_ft.fc = nn.Linear(num_ftrs, 2)\n",
    "model_ft = model_ft.to(device)\n",
    "model_ft.load_state_dict(torch.load('./checkpoint/best.pt')) # 0: w/device, 1: wo/ device\n",
    "model_ft.eval() \n",
    "\n",
    "optimizer_ft = optim.SGD(model_ft.parameters(), lr=0.0005, momentum=0.9)\n",
    "exp_lr_scheduler = lr_scheduler.StepLR(optimizer_ft, step_size=10, gamma=0.1)"
   ]
  },
  {
   "cell_type": "markdown",
   "id": "15575180",
   "metadata": {},
   "source": [
    "# PNG Dataset load"
   ]
  },
  {
   "cell_type": "code",
   "execution_count": null,
   "id": "c0237aa2",
   "metadata": {},
   "outputs": [],
   "source": [
    "data_transforms = {\n",
    "    'test': transforms.Compose([\n",
    "        transforms.Resize(1024),\n",
    "        transforms.CenterCrop(1024),\n",
    "        transforms.ToTensor(),\n",
    "        transforms.Normalize([0.5,], [0.5,])\n",
    "    ]),\n",
    "}\n",
    "\n",
    "test_dir = '/mnt/dataset/Synthesis_Study/2022/test'      \n",
    "output_dir = '/mnt/dataset/Synthesis_Study/2022/2_X-ray_cleansing_png'\n",
    "\n",
    "os.makedirs(output_dir, exist_ok=True)\n",
    "\n",
    "\n",
    "test_dataset = DatasetFolder_wo_Label(test_dir, \n",
    "                                      transform = data_transforms['test'], \n",
    "                                      is_valid_file=is_valid_file)\n",
    "test_dataloader = torch.utils.data.DataLoader(test_dataset,\n",
    "                                              batch_size=1,\n",
    "                                              shuffle=False, \n",
    "                                              num_workers=4)\n",
    "\n",
    "dataset_sizes = len(test_dataset)\n",
    "print(dataset_sizes)"
   ]
  },
  {
   "cell_type": "code",
   "execution_count": null,
   "id": "1d73a46e",
   "metadata": {},
   "outputs": [],
   "source": [
    "model = copy.deepcopy(model_ft)\n",
    "optimizer = copy.deepcopy(optimizer_ft)\n",
    "\n",
    "for idx, inputs in enumerate(tqdm(test_dataloader)):\n",
    "    \n",
    "    src = os.path.join(test_dir, test_dataloader.dataset.samples[idx])\n",
    "    dst = os.path.join(output_dir, os.path.split(test_dataloader.dataset.samples[idx])[-1])\n",
    "    inputs = inputs.to(device)\n",
    "    \n",
    "\n",
    "    # zero the parameter gradients\n",
    "    optimizer.zero_grad()\n",
    "\n",
    "    with torch.set_grad_enabled(False):\n",
    "        outputs = model(inputs)\n",
    "        _, preds = torch.max(outputs, 1)\n",
    "        \n",
    "    pred = preds.cpu().numpy()[0]\n",
    "\n",
    "    if pred == 1:\n",
    "        shutil.copy(src, dst)\n",
    "        continue"
   ]
  }
 ],
 "metadata": {
  "kernelspec": {
   "display_name": "Python 3 (ipykernel)",
   "language": "python",
   "name": "python3"
  },
  "language_info": {
   "codemirror_mode": {
    "name": "ipython",
    "version": 3
   },
   "file_extension": ".py",
   "mimetype": "text/x-python",
   "name": "python",
   "nbconvert_exporter": "python",
   "pygments_lexer": "ipython3",
   "version": "3.7.11"
  }
 },
 "nbformat": 4,
 "nbformat_minor": 5
}

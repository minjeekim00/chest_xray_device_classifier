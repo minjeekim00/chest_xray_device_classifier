{
 "cells": [
  {
   "cell_type": "code",
   "execution_count": null,
   "id": "2a3e09aa",
   "metadata": {},
   "outputs": [],
   "source": [
    "import os\n",
    "import SimpleITK as sitk\n",
    "import matplotlib.pyplot as plt\n",
    "import numpy as np\n",
    "from PIL import Image\n",
    "\n",
    "from glob import glob\n",
    "from tqdm import tqdm\n",
    "\n",
    "from loader.utils import dcm_to_array\n",
    "from loader.utils import percentile\n",
    "from loader.utils import padding, resize"
   ]
  },
  {
   "cell_type": "code",
   "execution_count": null,
   "id": "0a192be7",
   "metadata": {},
   "outputs": [],
   "source": [
    "src_dir = '/mnt/dataset/Synthesis_Study/2022/X-ray'\n",
    "dst_dir = '/mnt/dataset/Synthesis_Study/2022/X-ray_png'"
   ]
  },
  {
   "cell_type": "code",
   "execution_count": null,
   "id": "6a7a9774",
   "metadata": {},
   "outputs": [],
   "source": [
    "files = glob(src_dir+'/**/*.dcm', recursive=True)\n",
    "length = len(files)\n",
    "print(length)"
   ]
  },
  {
   "cell_type": "markdown",
   "id": "f80b3ec8",
   "metadata": {},
   "source": [
    "# Visualize data"
   ]
  },
  {
   "cell_type": "code",
   "execution_count": null,
   "id": "cdbfced5",
   "metadata": {},
   "outputs": [],
   "source": [
    "def _preprocess_to_pil(file):\n",
    "    img = dcm_to_array(file)\n",
    "    img = percentile(img)\n",
    "    img = padding(np.transpose(img, (1, 2, 0)))\n",
    "    img = resize(img, (1024, 1024), None)\n",
    "    img = np.squeeze(img)\n",
    "\n",
    "    return Image.fromarray(img.astype('uint8'))\n",
    "    \n",
    "pil_img = _preprocess_to_pil(files[0])\n",
    "pil_img"
   ]
  },
  {
   "cell_type": "code",
   "execution_count": null,
   "id": "600f31dc",
   "metadata": {},
   "outputs": [],
   "source": [
    "for file in tqdm(files):\n",
    "    pil_img = _preprocess_to_pil(file)\n",
    "    \n",
    "    dst = file.replace(src_dir, dst_dir)\n",
    "    dst = dst.replace('.dcm', '.png')\n",
    "    \n",
    "    if os.path.exists(dst):\n",
    "        continue\n",
    "        \n",
    "    os.makedirs(os.path.split(dst)[0], exist_ok=True)\n",
    "    pil_img.save(dst, quality=100)"
   ]
  }
 ],
 "metadata": {
  "kernelspec": {
   "display_name": "Python 3 (ipykernel)",
   "language": "python",
   "name": "python3"
  },
  "language_info": {
   "codemirror_mode": {
    "name": "ipython",
    "version": 3
   },
   "file_extension": ".py",
   "mimetype": "text/x-python",
   "name": "python",
   "nbconvert_exporter": "python",
   "pygments_lexer": "ipython3",
   "version": "3.7.11"
  }
 },
 "nbformat": 4,
 "nbformat_minor": 5
}
